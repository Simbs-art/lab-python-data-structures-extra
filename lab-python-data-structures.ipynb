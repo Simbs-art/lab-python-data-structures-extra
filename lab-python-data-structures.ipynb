{
 "cells": [
  {
   "cell_type": "markdown",
   "metadata": {},
   "source": [
    "# Lab | Data Structures "
   ]
  },
  {
   "cell_type": "markdown",
   "metadata": {},
   "source": [
    "## Exercise 1: Working with Lists"
   ]
  },
  {
   "cell_type": "markdown",
   "metadata": {},
   "source": [
    "Imagine you are building a program for a teacher who wants to track the progress of their students throughout the semester. The teacher wants to input the grades of each student one by one, and get a summary of their performance. There are in total 5 students. You are tasked with building the program that will allow the teacher to do this easily.\n",
    "\n",
    "The program will prompt the teacher to enter the grades of each student. Once the teacher has entered all the grades, the program will calculate the total sum of the grades and display it on the screen. Then, the program will create a new list by selecting only the grades of the first, third, and fifth students entered by the teacher, and sort them in ascending order.\n",
    "\n",
    "Finally, the program will print out the new list, along with its length and the number of occurrences of the score 5 in the list. This will give the teacher a good overview of the performance of the selected students, and help them identify any potential issues early on."
   ]
  },
  {
   "cell_type": "markdown",
   "metadata": {},
   "source": [
    "*Hint:*\n",
    "- You can use the input() function to ask the user to enter their information.\n",
    "- Look for list methods to perform the tasks. \n",
    "- Remember, it is possible to get a part of the sequence using:\n",
    "\n",
    "    ```python\n",
    "    sequence[x:y:z]\n",
    "    ```\n",
    "    where x, y, z are integers.\n",
    "\n",
    "    The above returns a new sequence with the following characteristics:\n",
    "\n",
    "    - A sequence with the same type as the original (a slice of a list is a list, a slice of a tuple is a tuple, and a slice of a string is a string).\n",
    "    - A sequence with elements from `sequence [x]` to `sequence [y-1]` (does not include a sequence [y]). By skipping `z` elements each time, it can be omitted if ` z = 1`.\n"
   ]
  },
  {
   "cell_type": "markdown",
   "metadata": {},
   "source": [
    "*Recommended External Resources:*\n",
    "- *[Python Lists](https://www.w3schools.com/python/python_lists.asp)*\n",
    "- *[Python List Methods](https://www.w3schools.com/python/python_ref_list.asp)*\n",
    "- *[Python Built-in Functions](https://docs.python.org/3/library/functions.html)*\n"
   ]
  },
  {
   "cell_type": "code",
   "execution_count": 2,
   "metadata": {},
   "outputs": [
    {
     "name": "stdout",
     "output_type": "stream",
     "text": [
      "Total sum of all grades: 310.0\n",
      "Grades of the first, third and fifth students (sorted): [80.0]\n",
      "length of the new list: 1\n",
      "Number of occurences of the score 5 in the list: 0\n"
     ]
    }
   ],
   "source": [
    "grade_list = []\n",
    "for i in range(5):\n",
    "    while True:\n",
    "        try:\n",
    "            grade = float(input(f\"Enter grade for student {i + 1}: \"))\n",
    "            grade_list.append(grade)\n",
    "            break\n",
    "        except ValueError:\n",
    "            print(\"Invalid input. Please enter a numeric grade.\")\n",
    "total = sum(grade_list)\n",
    "print(f\"Total sum of all grades: {total}\")\n",
    "\n",
    "selected_grades = grade_list[0:2:4]\n",
    "selected_grades.sort()\n",
    "print(f\"Grades of the first, third and fifth students (sorted): {selected_grades}\")\n",
    "print(f\"length of the new list: {len(selected_grades)}\")\n",
    "print(f\"Number of occurences of the score 5 in the list: {selected_grades.count(5)}\")"
   ]
  },
  {
   "cell_type": "markdown",
   "metadata": {},
   "source": [
    "## Exercise 2: Tuples"
   ]
  },
  {
   "cell_type": "markdown",
   "metadata": {},
   "source": [
    "Imagine you're running a fruit stand and want to keep track of your inventory. Write a Python program that does the following:\n",
    "\n",
    "- Initializes a tuple with 5 different types of fruit.\n",
    "- Outputs the first and last elements of the tuple, so you can see the full range of fruits the store offers.\n",
    "- Replaces the second element of the tuple with a new fruit that the store has recently received, and prints the updated tuple so you can see the changes.\n",
    "- Concatenates a new tuple containing 2 additional fruits to the original tuple, so you can add them to the store inventory, and prints the resulting tuple to see the updated inventory.\n",
    "- Splits the resulting tuple into 2 tuples of 3 elements each (the first tuple contains the first 3 elements, and the second tuple contains the last 3 elements), so you can organize the inventory more effectively.\n",
    "- Combines the 2 tuples from the previous step with the original tuple into a new tuple, and prints the resulting tuple and its length, so you can see the final inventory after all the changes."
   ]
  },
  {
   "cell_type": "markdown",
   "metadata": {},
   "source": [
    "*Recommended External Resources: [Python Tuples Examples and Methods](https://www.w3schools.com/python/python_tuples.asp)*\n",
    "\n"
   ]
  },
  {
   "cell_type": "code",
   "execution_count": 3,
   "metadata": {},
   "outputs": [
    {
     "name": "stdout",
     "output_type": "stream",
     "text": [
      "First fruit: apple\n",
      "Last fruit: kiwi\n",
      "Updated fruits tuple: ('apple', 'blueberry', 'cherry', 'orange', 'kiwi')\n",
      "Updated inventory after adding new fruits: ('apple', 'blueberry', 'cherry', 'orange', 'kiwi', 'grape', 'mango')\n",
      "First tuple (first three fruits): ('apple', 'blueberry', 'cherry')\n",
      "Second tuple (last two fruits): ('orange', 'kiwi', 'grape', 'mango')\n",
      "Final inventory: ('apple', 'banana', 'cherry', 'orange', 'kiwi', 'apple', 'blueberry', 'cherry', 'orange', 'kiwi', 'grape', 'mango')\n",
      "Length of final inventory: 12\n"
     ]
    }
   ],
   "source": [
    "fruits = (\"apple\", \"banana\", \"cherry\", \"orange\", \"kiwi\")\n",
    "print(f\"First fruit: {fruits[0]}\")\n",
    "print(f\"Last fruit: {fruits[-1]}\")\n",
    "\n",
    "fruits_list = list(fruits)\n",
    "fruits_list[1] = \"blueberry\"\n",
    "updated_fruits = tuple(fruits_list)\n",
    "print(f\"Updated fruits tuple: {updated_fruits}\")\n",
    "\n",
    "new_fruits = (\"grape\", \"mango\")\n",
    "updated_inventory = updated_fruits + new_fruits\n",
    "print(f\"Updated inventory after adding new fruits: {updated_inventory}\")\n",
    "\n",
    "tuple1 = updated_inventory[:3]\n",
    "tuple2 = updated_inventory[3:]\n",
    "print(f\"First tuple (first three fruits): {tuple1}\")\n",
    "print(f\"Second tuple (last two fruits): {tuple2}\")\n",
    "\n",
    "final_inventory = (fruits) + (tuple1) + (tuple2)\n",
    "print(f\"Final inventory: {final_inventory}\")\n",
    "print(f\"Length of final inventory: {len(final_inventory)}\")"
   ]
  },
  {
   "cell_type": "markdown",
   "metadata": {},
   "source": []
  },
  {
   "cell_type": "markdown",
   "metadata": {},
   "source": [
    "## Exercise 3: Sets"
   ]
  },
  {
   "cell_type": "markdown",
   "metadata": {},
   "source": [
    "Imagine you are a data analyst working for a literature museum. Your manager has given you two poems to analyze, and she wants you to write a Python program to extract useful information from them.\n",
    "\n",
    "Your program should:\n",
    "\n",
    "- Create two sets, one for each poem, containing all unique words in both poems (ignoring case and punctuation).\n",
    "- Print the number of unique words in each set.\n",
    "- Identify and print the unique words present in the first poem but not in the second one.\n",
    "- Identify and print the unique words present in the second poem but not in the first one.\n",
    "- Identify and print the unique words present in both poems and print it in alphabetical order."
   ]
  },
  {
   "cell_type": "markdown",
   "metadata": {},
   "source": [
    "*Recommended External Resources:*\n",
    "- *[Python Sets](https://www.w3schools.com/python/python_sets.asp)* \n",
    "- *[Python Set Methods](https://www.w3schools.com/python/python_ref_set.asp)*\n",
    "- *[Python String Methods](https://www.w3schools.com/python/python_ref_string.asp)*\n"
   ]
  },
  {
   "cell_type": "code",
   "execution_count": 4,
   "metadata": {},
   "outputs": [],
   "source": [
    "poem = \"\"\"Some say the world will end in fire,\n",
    "Some say in ice.\n",
    "From what I’ve tasted of desire\n",
    "I hold with those who favor fire.\n",
    "But if it had to perish twice,\n",
    "I think I know enough of hate\n",
    "To say that for destruction ice\n",
    "Is also great\n",
    "And would suffice.\"\"\"\n",
    "\n",
    "new_poem = \"\"\"Some say life is but a dream,\n",
    "Some say it's a test.\n",
    "From what I've seen and what I deem,\n",
    "I side with those who see it as a quest.\n",
    "\n",
    "But if it had to end today,\n",
    "I think I know enough of love,\n",
    "To say that though it fades away,\n",
    "It's still what we are made of.\"\"\""
   ]
  },
  {
   "cell_type": "code",
   "execution_count": 6,
   "metadata": {},
   "outputs": [
    {
     "name": "stdout",
     "output_type": "stream",
     "text": [
      "Number of unique words in the first poem: 41\n",
      "Number of unique words in the second poem: 42\n",
      "\n",
      "Unique words in the first poem but not in the second: {'i’ve', 'hold', 'for', 'great', 'will', 'fire', 'the', 'desire', 'destruction', 'ice', 'world', 'favor', 'tasted', 'perish', 'would', 'twice', 'suffice', 'also', 'in', 'hate'}\n",
      "Unique words in the second poem but not in the first: {'quest', 'though', 'seen', 'test', 'life', 'dream', 'we', 'fades', 'made', 'see', 'are', 'side', 'a', 'ive', 'as', 'love', 'away', 'its', 'still', 'today', 'deem'}\n",
      "\n",
      "Unique words present in both poems (alphabetical order): ['and', 'but', 'end', 'enough', 'from', 'had', 'i', 'if', 'is', 'it', 'know', 'of', 'say', 'some', 'that', 'think', 'those', 'to', 'what', 'who', 'with']\n"
     ]
    }
   ],
   "source": [
    "def get_unique_words(text):\n",
    "    text = text.lower()\n",
    "    text = text.replace(\",\", \"\").replace(\".\", \"\").replace(\"'\", \"\")\n",
    "    words = text.split()\n",
    "    return set(words)\n",
    "\n",
    "poem_words = get_unique_words(poem)\n",
    "new_poem_words = get_unique_words(new_poem)\n",
    "\n",
    "print(f\"Number of unique words in the first poem: {len(poem_words)}\")\n",
    "print(f\"Number of unique words in the second poem: {len(new_poem_words)}\")\n",
    "\n",
    "unique_to_poem1 = poem_words - new_poem_words\n",
    "print(f\"\\nUnique words in the first poem but not in the second: {unique_to_poem1}\")\n",
    "\n",
    "unique_to_poem2 = new_poem_words - poem_words\n",
    "print(f\"Unique words in the second poem but not in the first: {unique_to_poem2}\")\n",
    "\n",
    "common_words = poem_words.intersection(new_poem_words)\n",
    "print(f\"\\nUnique words present in both poems (alphabetical order): {sorted(list(common_words))}\")"
   ]
  },
  {
   "cell_type": "markdown",
   "metadata": {},
   "source": [
    "## Exercise 4: Dictionaries"
   ]
  },
  {
   "cell_type": "markdown",
   "metadata": {},
   "source": [
    "Consider the following dictionary of students with their scores in different subjects. One of the students, Bob, has complained about his score in Philosophy and, after reviewing it, the teacher has decided to update his score to 100. Write a Python program that updates Bob's score in Philosophy to 100 in the dictionary."
   ]
  },
  {
   "cell_type": "markdown",
   "metadata": {},
   "source": [
    "*Recommended External Resources: [Python Dictionary Examples and Methods](https://www.w3schools.com/python/python_dictionaries.asp)*\n"
   ]
  },
  {
   "cell_type": "code",
   "execution_count": 7,
   "metadata": {},
   "outputs": [],
   "source": [
    "grades = {'Alice': {'Physics': 75, 'Math': 85, 'Chemistry': 60, 'Philosophy': 90}, 'Bob': {'Physics': 75, 'Math': 85, 'Chemistry': 60, 'Philosophy': 90}}"
   ]
  },
  {
   "cell_type": "code",
   "execution_count": 8,
   "metadata": {},
   "outputs": [
    {
     "name": "stdout",
     "output_type": "stream",
     "text": [
      "Updated grades dictionary: {'Alice': {'Physics': 75, 'Math': 85, 'Chemistry': 60, 'Philosophy': 90}, 'Bob': {'Physics': 75, 'Math': 85, 'Chemistry': 60, 'Philosophy': 100}}\n"
     ]
    }
   ],
   "source": [
    "grades['Bob']['Philosophy'] = 100\n",
    "print(f\"Updated grades dictionary: {grades}\")"
   ]
  },
  {
   "cell_type": "markdown",
   "metadata": {},
   "source": [
    "## Bonus"
   ]
  },
  {
   "cell_type": "markdown",
   "metadata": {},
   "source": [
    "1. Below are the two lists. Write a Python program to convert them into a dictionary in a way that item from list1 is the key and item from list2 is the value."
   ]
  },
  {
   "cell_type": "markdown",
   "metadata": {},
   "source": [
    "*Hint: Use the zip() function. This function takes two or more iterables (like list, dict, string), aggregates them in a tuple, and returns it. Afterwards, you can use a function that turns a tuple into a dictionary.*"
   ]
  },
  {
   "cell_type": "markdown",
   "metadata": {},
   "source": [
    "*Recommended External Resources: [Python Zip Function](https://www.w3schools.com/python/ref_func_zip.asp)*\n"
   ]
  },
  {
   "cell_type": "code",
   "execution_count": 10,
   "metadata": {},
   "outputs": [
    {
     "name": "stdout",
     "output_type": "stream",
     "text": [
      "Dictionary created from keys and values: {'Physics': 75, 'Math': 85, 'Chemistry': 60, 'Philosophy': 90}\n"
     ]
    }
   ],
   "source": [
    "keys = ['Physics', 'Math', 'Chemistry', 'Philosophy']\n",
    "values = [75, 85, 60,90]\n",
    "\n",
    "grades_dict = dict(zip(keys, values))\n",
    "print(f\"Dictionary created from keys and values: {grades_dict}\")\n",
    "\n"
   ]
  },
  {
   "cell_type": "markdown",
   "metadata": {},
   "source": [
    "2. Get the subject with the minimum score from the previous dictionary."
   ]
  },
  {
   "cell_type": "markdown",
   "metadata": {},
   "source": [
    "*Hint: Use the built-in function min(). Read about the parameter key.*"
   ]
  },
  {
   "cell_type": "markdown",
   "metadata": {},
   "source": [
    "\n",
    "*Recommended External Resources:*\n",
    "- *[Python Min Function Official Documentation](https://docs.python.org/3.8/library/functions.html#min)*\n",
    "- *[How to use key function in max and min in Python](https://medium.com/analytics-vidhya/how-to-use-key-function-in-max-and-min-in-python-1fdbd661c59c)*"
   ]
  },
  {
   "cell_type": "code",
   "execution_count": 14,
   "metadata": {},
   "outputs": [
    {
     "name": "stdout",
     "output_type": "stream",
     "text": [
      "Subject with the minimum score in the dictionary: Chemistry\n"
     ]
    }
   ],
   "source": [
    "minimum_score = min(grades_dict, key = grades_dict.get)\n",
    "print(f\"Subject with the minimum score in the dictionary: {minimum_score}\")"
   ]
  }
 ],
 "metadata": {
  "kernelspec": {
   "display_name": "base",
   "language": "python",
   "name": "python3"
  },
  "language_info": {
   "codemirror_mode": {
    "name": "ipython",
    "version": 3
   },
   "file_extension": ".py",
   "mimetype": "text/x-python",
   "name": "python",
   "nbconvert_exporter": "python",
   "pygments_lexer": "ipython3",
   "version": "3.12.7"
  }
 },
 "nbformat": 4,
 "nbformat_minor": 4
}
